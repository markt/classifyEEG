{
 "cells": [
  {
   "cell_type": "markdown",
   "id": "3da99812",
   "metadata": {},
   "source": [
    "# import"
   ]
  },
  {
   "cell_type": "code",
   "execution_count": 142,
   "id": "c8009872",
   "metadata": {
    "ExecuteTime": {
     "end_time": "2021-06-24T04:16:54.181138Z",
     "start_time": "2021-06-24T04:16:54.156614Z"
    }
   },
   "outputs": [],
   "source": [
    "from mne.datasets import eegbci\n",
    "from mne.io import concatenate_raws, read_raw_edf\n",
    "from mne.channels import make_standard_montage\n",
    "\n",
    "from mne import events_from_annotations\n",
    "\n",
    "import matplotlib.pyplot as plt"
   ]
  },
  {
   "cell_type": "markdown",
   "id": "5bb6a628",
   "metadata": {},
   "source": [
    "# load data for one subject"
   ]
  },
  {
   "cell_type": "code",
   "execution_count": 143,
   "id": "d9b1cb2d",
   "metadata": {
    "ExecuteTime": {
     "end_time": "2021-06-24T04:16:55.668358Z",
     "start_time": "2021-06-24T04:16:55.209469Z"
    }
   },
   "outputs": [
    {
     "name": "stdout",
     "output_type": "stream",
     "text": [
      "Extracting EDF parameters from /Users/marktaylor/mne_data/MNE-eegbci-data/physiobank/database/eegmmidb/S001/S001R04.edf...\n",
      "EDF file detected\n",
      "Setting channel info structure...\n",
      "Creating raw.info structure...\n",
      "Reading 0 ... 19999  =      0.000 ...   124.994 secs...\n",
      "Extracting EDF parameters from /Users/marktaylor/mne_data/MNE-eegbci-data/physiobank/database/eegmmidb/S001/S001R08.edf...\n",
      "EDF file detected\n",
      "Setting channel info structure...\n",
      "Creating raw.info structure...\n",
      "Reading 0 ... 19999  =      0.000 ...   124.994 secs...\n",
      "Extracting EDF parameters from /Users/marktaylor/mne_data/MNE-eegbci-data/physiobank/database/eegmmidb/S001/S001R12.edf...\n",
      "EDF file detected\n",
      "Setting channel info structure...\n",
      "Creating raw.info structure...\n",
      "Reading 0 ... 19999  =      0.000 ...   124.994 secs...\n",
      "DigMontage is a superset of info. 279 in DigMontage will be ignored. The ignored channels are: {'TP10h', 'AFp3', 'T4', 'PPO3h', 'TTP9h', 'F2h', 'POO8h', 'I2h', 'CCP4h', 'AFp4h', 'POO4', 'AFp10h', 'PPO10h', 'C6h', 'F3h', 'AFp5', 'PPO6h', 'FCC3h', 'PO2h', 'P7h', 'AF2h', 'POO7', 'AFp6', 'P10', 'PPO8', 'POO5', 'CPP3', 'PO7h', 'T8h', 'AF1h', 'I1h', 'FTT8h', 'PPO3', 'AFF1h', 'FT9h', 'PO6h', 'TPP10h', 'AFpz', 'T6', 'O2h', 'AFp10', 'TPP7h', 'AFFz', 'FFC5', 'P9', 'CPP2', 'POO3', 'TPP7', 'P9h', 'T10h', 'P4h', 'F7h', 'PO4h', 'PPO9', 'POO6', 'FFT10h', 'C2h', 'CP5h', 'T7h', 'POO2h', 'FFC3', 'PPO4', 'POOz', 'TTP9', 'POO3h', 'CPP2h', 'FCC6', 'PPO6', 'CCP1h', 'AFF2', 'TPP9', 'PPO1h', 'CCP6h', 'T5', 'CP1h', 'P6h', 'AF9', 'AFF10', 'TPP8h', 'FFC6h', 'A1', 'AF6', 'CCP4', 'FT10h', 'M2', 'POO2', 'AFF4h', 'CCP6', 'AF4h', 'CPP6', 'FT8h', 'FFT7', 'PPO7', 'O1h', 'CP4h', 'C5h', 'CCP5h', 'PO5', 'CPP4h', 'FFC2h', 'AFp3h', 'FFCz', 'CP3h', 'PO3h', 'PO1h', 'CCP2', 'POO9h', 'AFF4', 'CCPz', 'CPP3h', 'CPP4', 'OI2h', 'FFC1h', 'POO10', 'PPO9h', 'AFF3', 'AFp2h', 'FCC2h', 'PPO8h', 'P1h', 'POO5h', 'AFF7h', 'AFF5', 'AF1', 'TTP10', 'AFp9', 'CCP2h', 'CPP1h', 'FTT10h', 'M1', 'POO4h', 'F4h', 'AFp8', 'F5h', 'AFF8h', 'AFp6h', 'PPO10', 'AFp5h', 'AF9h', 'AF10', 'CP6h', 'TPP10', 'AFp9h', 'FC2h', 'FCC4', 'TTP8', 'FCC6h', 'TTP7', 'F10h', 'CCP5', 'PPO2', 'CPP5h', 'TP10', 'PO1', 'CPP6h', 'FC5h', 'AFp4', 'AF8h', 'POO8', 'FFC5h', 'TTP8h', 'I2', 'FFC1', 'PO9h', 'TPP8', 'AF5', 'P10h', 'AFF8', 'PPO2h', 'TPP9h', 'PPO4h', 'FT9', 'F1h', 'AFp1', 'OIz', 'FCC5h', 'FTT9', 'FFT8h', 'AFF1', 'AFF6', 'FT10', 'POO1h', 'P3h', 'FTT9h', 'A2', 'T9h', 'CPPz', 'TP9h', 'FCC2', 'OI1', 'FCC4h', 'CCP3h', 'CCP1', 'P5h', 'PPO1', 'POO6h', 'AFp2', 'TTP7h', 'F9', 'FCCz', 'I1', 'PO10h', 'PPO5', 'CPP1', 'OI2', 'FFC6', 'F8h', 'AFF6h', 'PO8h', 'TP7h', 'F6h', 'AF7h', 'AF2', 'FTT10', 'TP9', 'PO6', 'AFF5h', 'TTP10h', 'FFT9', 'PPOz', 'FFT9h', 'AFF7', 'FTT7', 'F10', 'FFC4', 'FFC2', 'C1h', 'FFT7h', 'FC4h', 'CP2h', 'AFF9', 'P2h', 'POO7h', 'Fp1h', 'AFp7h', 'AFF10h', 'AF5h', 'FCC1h', 'AF6h', 'AFF2h', 'CPP5', 'PO5h', 'FTT7h', 'POO9', 'FCC5', 'AFF3h', 'POO1', 'AFp7', 'AFF9h', 'Fp2h', 'FFT8', 'AFp8h', 'PO10', 'FFC3h', 'FC3h', 'AFp1h', 'OI1h', 'AF10h', 'PO9', 'FC1h', 'POO10h', 'TP8h', 'T3', 'AF3h', 'FCC1', 'FTT8', 'C4h', 'FT7h', 'FCC3', 'C3h', 'FFC4h', 'PPO5h', 'F9h', 'PPO7h', 'PO2', 'FFT10', 'CCP3', 'P8h', 'FC6h'}\n"
     ]
    }
   ],
   "source": [
    "subject = 1\n",
    "runs = [4, 8, 12]\n",
    "\n",
    "raw_fnames = eegbci.load_data(subject, runs)\n",
    "raws = concatenate_raws([read_raw_edf(f, preload=True) for f in raw_fnames])\n",
    "\n",
    "new_names = {ch: ch.rstrip('.').upper().replace('Z', 'z').replace('FP', 'Fp') for ch in raws.ch_names}\n",
    "raws.rename_channels(new_names)\n",
    "\n",
    "montage = make_standard_montage('standard_1005')\n",
    "raws.set_montage(montage)\n",
    "\n",
    "data, times = raws[:, :]"
   ]
  },
  {
   "cell_type": "markdown",
   "id": "68fe80ea",
   "metadata": {},
   "source": [
    "# split into trials and labels"
   ]
  },
  {
   "cell_type": "code",
   "execution_count": 144,
   "id": "9980b128",
   "metadata": {
    "ExecuteTime": {
     "end_time": "2021-06-24T04:16:56.065122Z",
     "start_time": "2021-06-24T04:16:56.035999Z"
    }
   },
   "outputs": [
    {
     "name": "stdout",
     "output_type": "stream",
     "text": [
      "Used Annotations descriptions: ['T0', 'T1', 'T2']\n"
     ]
    }
   ],
   "source": [
    "events, mapping = events_from_annotations(raws)\n",
    "\n",
    "trials = []\n",
    "labels = []\n",
    "\n",
    "rmapping = {v: k for k, v in mapping.items()}\n",
    "\n",
    "for i in range(len(events) - 1):\n",
    "    start, end, label = events[i][0], events[i+1][0], rmapping[events[i][2]]\n",
    "    trials.append(data[:,start:end])\n",
    "    labels.append(label)\n",
    "    \n",
    "start, end, label = events[-1][0], data.shape[1], rmapping[events[-1][2]]\n",
    "trials.append(data[:,start:end])\n",
    "labels.append(label)"
   ]
  },
  {
   "cell_type": "code",
   "execution_count": 96,
   "id": "9884856b",
   "metadata": {
    "ExecuteTime": {
     "end_time": "2021-06-24T03:41:20.283931Z",
     "start_time": "2021-06-24T03:41:20.272095Z"
    }
   },
   "outputs": [
    {
     "data": {
      "text/plain": [
       "'S001R04'"
      ]
     },
     "execution_count": 96,
     "metadata": {},
     "output_type": "execute_result"
    }
   ],
   "source": [
    "pre_name = raw_fnames[0].split('/')[-1].split('.')[0]"
   ]
  },
  {
   "cell_type": "code",
   "execution_count": 148,
   "id": "9c355ff7",
   "metadata": {
    "ExecuteTime": {
     "end_time": "2021-06-24T04:19:03.519818Z",
     "start_time": "2021-06-24T04:19:03.274447Z"
    }
   },
   "outputs": [
    {
     "data": {
      "text/plain": [
       "[<matplotlib.lines.Line2D at 0x7ffd26e6a890>]"
      ]
     },
     "execution_count": 148,
     "metadata": {},
     "output_type": "execute_result"
    },
    {
     "data": {
      "image/png": "[encoded data removed]",
      "text/plain": [
       "<Figure size 432x288 with 1 Axes>"
      ]
     },
     "metadata": {
      "needs_background": "light"
     },
     "output_type": "display_data"
    }
   ],
   "source": [
    "plt.plot(trials[0][0])"
   ]
  }
 ],
 "metadata": {
  "kernelspec": {
   "display_name": "Python 3",
   "language": "python",
   "name": "python3"
  },
  "language_info": {
   "codemirror_mode": {
    "name": "ipython",
    "version": 3
   },
   "file_extension": ".py",
   "mimetype": "text/x-python",
   "name": "python",
   "nbconvert_exporter": "python",
   "pygments_lexer": "ipython3",
   "version": "3.7.4"
  },
  "latex_envs": {
   "LaTeX_envs_menu_present": true,
   "autoclose": false,
   "autocomplete": true,
   "bibliofile": "biblio.bib",
   "cite_by": "apalike",
   "current_citInitial": 1,
   "eqLabelWithNumbers": true,
   "eqNumInitial": 1,
   "hotkeys": {
    "equation": "Ctrl-E",
    "itemize": "Ctrl-I"
   },
   "labels_anchors": false,
   "latex_user_defs": false,
   "report_style_numbering": false,
   "user_envs_cfg": false
  },
  "toc": {
   "base_numbering": 1,
   "nav_menu": {},
   "number_sections": true,
   "sideBar": true,
   "skip_h1_title": false,
   "title_cell": "Table of Contents",
   "title_sidebar": "Contents",
   "toc_cell": false,
   "toc_position": {},
   "toc_section_display": true,
   "toc_window_display": false
  },
  "varInspector": {
   "cols": {
    "lenName": 16,
    "lenType": 16,
    "lenVar": 40
   },
   "kernels_config": {
    "python": {
     "delete_cmd_postfix": "",
     "delete_cmd_prefix": "del ",
     "library": "var_list.py",
     "varRefreshCmd": "print(var_dic_list())"
    },
    "r": {
     "delete_cmd_postfix": ") ",
     "delete_cmd_prefix": "rm(",
     "library": "var_list.r",
     "varRefreshCmd": "cat(var_dic_list()) "
    }
   },
   "types_to_exclude": [
    "module",
    "function",
    "builtin_function_or_method",
    "instance",
    "_Feature"
   ],
   "window_display": false
  }
 },
 "nbformat": 4,
 "nbformat_minor": 5
}
